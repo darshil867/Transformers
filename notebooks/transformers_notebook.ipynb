{
  "nbformat": 4,
  "nbformat_minor": 0,
  "metadata": {
    "colab": {
      "provenance": [],
      "authorship_tag": "ABX9TyOLwg3Isuuf3LrQVPDp8FLv",
      "include_colab_link": true
    },
    "kernelspec": {
      "name": "python3",
      "display_name": "Python 3"
    },
    "language_info": {
      "name": "python"
    }
  },
  "cells": [
    {
      "cell_type": "markdown",
      "metadata": {
        "id": "view-in-github",
        "colab_type": "text"
      },
      "source": [
        "<a href=\"https://colab.research.google.com/github/01PrathamS/Transformers_from_scratch/blob/main/notebooks/transformers_notebook.ipynb\" target=\"_parent\"><img src=\"https://colab.research.google.com/assets/colab-badge.svg\" alt=\"Open In Colab\"/></a>"
      ]
    },
    {
      "cell_type": "code",
      "execution_count": 29,
      "metadata": {
        "id": "cbgUJ9fSNAUt"
      },
      "outputs": [],
      "source": [
        "import torch\n",
        "import torch.nn as nn"
      ]
    },
    {
      "cell_type": "code",
      "source": [
        "class InputEmbedding(nn.Module):\n",
        "\n",
        "  def __init__(self, d_model: int, vocab_size: int):\n",
        "    super().__init__()\n",
        "    self.d_model = d_model\n",
        "    self.vocab_size = vocab_size\n",
        "    self.embedding = nn.Embedding(vocab_size, d_model)\n",
        "\n",
        "  def forward(self, x):\n",
        "    return self.embedding(x) * torch.sqrt(torch.tensor(self.d_model, dtype=torch.float32))\n",
        "\n",
        "embd = InputEmbedding(512, 10000)\n",
        "embd(torch.randint(10000, (3, 2))).shape"
      ],
      "metadata": {
        "colab": {
          "base_uri": "https://localhost:8080/"
        },
        "id": "M_TOcn7ZNEB5",
        "outputId": "c1aa23dc-9227-4402-bc7f-796bfb9127c3"
      },
      "execution_count": 30,
      "outputs": [
        {
          "output_type": "execute_result",
          "data": {
            "text/plain": [
              "torch.Size([3, 2, 512])"
            ]
          },
          "metadata": {},
          "execution_count": 30
        }
      ]
    },
    {
      "cell_type": "code",
      "source": [
        "# embd(torch.randint(10000, (3, 2)))"
      ],
      "metadata": {
        "id": "Pgm5UJosPPPQ"
      },
      "execution_count": 31,
      "outputs": []
    },
    {
      "cell_type": "code",
      "source": [
        "class PositionalEncoding(nn.Module):\n",
        "\n",
        "  def __init__(self, d_model: int, seq_len: int, dropout: float) -> None:\n",
        "    super().__init__()\n",
        "    self.d_model = d_model\n",
        "    self.seq_len = seq_len\n",
        "    self.dropout = nn.Dropout(dropout)\n",
        "\n",
        "    # create a matrix of shape (seq_len, d_model)\n",
        "    pe = torch.zeros(seq_len, d_model)\n",
        "    # Create a vector of shape (seq_len, 1)\n",
        "    position = torch.arange(0, seq_len, dtype=torch.float).unsqueeze(1)\n",
        "    div_term = torch.exp(torch.arange(0, d_model, 2).float() * (-torch.log(torch.tensor(10000.0)) / d_model))\n",
        "    pe[:, 0::2] = torch.sin(position * div_term)\n",
        "    pe[:, 1::2] = torch.cos(position * div_term)\n",
        "\n",
        "    pe = pe.unsqueeze(0) # (1, seq_len, d_model)\n",
        "\n",
        "    self.register_buffer('pe', pe) ## file saved along with state of the model\n",
        "\n",
        "  def forward(self, x):\n",
        "    x = x + (self.pe[:, :x.shape[1], :]).requires_grad_(False)\n",
        "    return self.dropout(x)\n",
        "\n",
        "pembd = PositionalEncoding(512, 20, 0.1)\n",
        "pembd(embd(torch.randint(10000, (3, 2)))).shape"
      ],
      "metadata": {
        "colab": {
          "base_uri": "https://localhost:8080/"
        },
        "id": "SFGAOIEpNfWC",
        "outputId": "ef92d594-bc11-46e2-9048-38afdda22a1a"
      },
      "execution_count": 32,
      "outputs": [
        {
          "output_type": "execute_result",
          "data": {
            "text/plain": [
              "torch.Size([3, 2, 512])"
            ]
          },
          "metadata": {},
          "execution_count": 32
        }
      ]
    },
    {
      "cell_type": "code",
      "source": [
        "class LayerNormalization(nn.Module):\n",
        "\n",
        "  def __init__(self, eps: float = 10**-6) -> None:\n",
        "    super().__init__()\n",
        "    self.eps = eps\n",
        "    self.alpha = nn.Parameter(torch.ones(1))\n",
        "    self.bias = nn.Parameter(torch.zeros(1))\n",
        "\n",
        "  def forward(self, x):\n",
        "    mean = x.mean(dim = -1, keepdim=True)\n",
        "    std = x.std(dim = -1, keepdim=True)\n",
        "    return (self.alpha * (x - mean) / (std + self.eps)) + self.bias\n",
        "\n",
        "lnorm = LayerNormalization()\n",
        "lnorm(torch.ones(1, 2, 3)).shape"
      ],
      "metadata": {
        "colab": {
          "base_uri": "https://localhost:8080/"
        },
        "id": "2CNhv-8_NtPV",
        "outputId": "fe909bdd-95ec-4b15-dd84-052cd21f86a8"
      },
      "execution_count": 33,
      "outputs": [
        {
          "output_type": "execute_result",
          "data": {
            "text/plain": [
              "torch.Size([1, 2, 3])"
            ]
          },
          "metadata": {},
          "execution_count": 33
        }
      ]
    },
    {
      "cell_type": "code",
      "source": [
        "class FeedForwardBlock(nn.Module):\n",
        "\n",
        "  def __init__(self, d_model: int, d_ff: int, dropout: int) -> None:\n",
        "    super().__init__()\n",
        "    self.linear_1 = nn.Linear(d_model, d_ff) # W1 and B1\n",
        "    self.dropout = nn.Dropout(dropout)\n",
        "    self.linear_2 = nn.Linear(d_ff, d_model) # W2 and B2\n",
        "\n",
        "  def forward(self, x):\n",
        "    # (Batch, Seq_len, d_model) --> (Batch, Seq_len, d_ff) --> (Batch, Seq_len, d_model)\n",
        "    return self.linear_2(self.dropout(torch.relu(self.linear_1(x))))\n",
        "\n",
        "ff = FeedForwardBlock(512, 2048, 0.1)\n",
        "ff(torch.ones(2, 3, 512)).shape\n"
      ],
      "metadata": {
        "colab": {
          "base_uri": "https://localhost:8080/"
        },
        "id": "OfputsMYSuK_",
        "outputId": "2b95962e-469d-4d23-fc41-f0bf16dcbdfc"
      },
      "execution_count": 34,
      "outputs": [
        {
          "output_type": "execute_result",
          "data": {
            "text/plain": [
              "torch.Size([2, 3, 512])"
            ]
          },
          "metadata": {},
          "execution_count": 34
        }
      ]
    },
    {
      "cell_type": "code",
      "source": [
        "import math\n",
        "\n",
        "class MultiHeadAttentionBlock(nn.Module):\n",
        "\n",
        "  def __init__(self, d_model: int, h: int, dropout: float) -> None:\n",
        "    super().__init__()\n",
        "    self.d_model = d_model\n",
        "    self.h = h\n",
        "    assert d_model % h == 0, \"d_model is not divible by h\"\n",
        "\n",
        "    self.d_k = d_model // h\n",
        "    self.w_q = nn.Linear(d_model, d_model, bias = False)\n",
        "    self.w_k = nn.Linear(d_model, d_model, bias = False)\n",
        "    self.w_v = nn.Linear(d_model, d_model, bias = False)\n",
        "    self.w_o = nn.Linear(d_model, d_model, bias = False)\n",
        "    self.dropout = nn.Dropout(dropout)\n",
        "\n",
        "  @staticmethod\n",
        "  def attention(query, key, value, mask, dropout: nn.Dropout):\n",
        "    d_k = query.shape[-1]\n",
        "\n",
        "    # (Batch, h, seq_len, d_k) -> (Batch, h, seq_len, seq_len)\n",
        "    attention_scores = (query @ key.transpose(-2, -1)) / math.sqrt(d_k)\n",
        "    if mask is not None:\n",
        "      attention_scores.masked_fill_(mask == 0, -1e9)\n",
        "    # (Batch, h, seq_len, seq_len)\n",
        "    attention_scores = attention_scores.softmax(dim = -1)\n",
        "    if dropout is not None:\n",
        "      attention_scores = dropout(attention_scores)\n",
        "\n",
        "    return (attention_scores @ value), attention_scores\n",
        "\n",
        "\n",
        "  def forward(self, q, k, v, mask):\n",
        "    query = self.w_q(q) # (Batch, Seq_len, d_model) -> (Batch, Seq_len, d_model)\n",
        "    key = self.w_k(k)\n",
        "    value = self.w_v(v)\n",
        "\n",
        "    # (Batch, Seq_len, d_model) -> (Batch, Seq_len, h, d_k) -> (Batch, h, Seq_len, d_k)\n",
        "    query = query.view(query.shape[0], query.shape[1], self.h, self.d_k).transpose(1, 2)\n",
        "    key = key.view(key.shape[0], key.shape[1], self.h, self.d_k).transpose(1, 2)\n",
        "    value = value.view(value.shape[0], value.shape[1], self.h, self.d_k).transpose(1, 2)\n",
        "\n",
        "    x, self.attention_scores = MultiHeadAttentionBlock.attention(query, key, value, mask, self.dropout)\n",
        "\n",
        "    # (Batch, h, Seq_len, d_k) --> (Batch, seq_len, h, d_k) --> (Batch, seq_len, d_model)\n",
        "    x = x.transpose(1, 2).contiguous().view(x.shape[0], -1, self.h * self.d_k)\n",
        "    # (Batch, seq_len, d_model) --> (Batch, seq_len, d_model)\n",
        "    return self.w_o(x)\n",
        "\n",
        "mlattention = MultiHeadAttentionBlock(512, 8, 0.1)\n",
        "mlattention(torch.ones(2, 3, 512), torch.ones(2, 3, 512), torch.ones(2, 3, 512), None).shape"
      ],
      "metadata": {
        "colab": {
          "base_uri": "https://localhost:8080/"
        },
        "id": "-ouclrqETw_T",
        "outputId": "4679992f-83c8-4aef-ffdf-84f581859d50"
      },
      "execution_count": 39,
      "outputs": [
        {
          "output_type": "execute_result",
          "data": {
            "text/plain": [
              "torch.Size([2, 3, 512])"
            ]
          },
          "metadata": {},
          "execution_count": 39
        }
      ]
    },
    {
      "cell_type": "code",
      "source": [
        "class ResidualConnection(nn.Module):\n",
        "\n",
        "  def __init__(self, dropout: float) -> None:\n",
        "    super().__init__()\n",
        "    self.dropout = nn.Dropout(dropout)\n",
        "    self.norm = LayerNormalization()\n",
        "\n",
        "  def forward(self, x, sublayer):\n",
        "    return x + self.dropout(sublayer(self.norm(x)))"
      ],
      "metadata": {
        "id": "Cr28gbnHj-XI"
      },
      "execution_count": 40,
      "outputs": []
    },
    {
      "cell_type": "code",
      "source": [
        "class EncoderBlock(nn.Module):\n",
        "\n",
        "  def __init__(self, self_attention_block: MultiHeadAttentionBlock,\n",
        "               feed_forward_block: FeedForwardBlock,\n",
        "               dropout: float) -> None:\n",
        "      super().__init__()\n",
        "      self.self_attention_block = self_attention_block\n",
        "      self.feed_forward_block = feed_forward_block\n",
        "      self.residual_connection = nn.ModuleList([ResidualConnection(dropout) for _ in range(2)])\n",
        "\n",
        "  def forward(self, x, src_mask):\n",
        "    x = self.residual_connection[0](x, lambda x: self.self_attention_block(x, x, x, src_mask))\n",
        "    x = self.residual_connection[1](x, self.feed_forward_block)\n",
        "    return x\n",
        ""
      ],
      "metadata": {
        "id": "hq01y8orlK_N"
      },
      "execution_count": 41,
      "outputs": []
    },
    {
      "cell_type": "code",
      "source": [
        "class Encoder(nn.Module):\n",
        "\n",
        "  def __init__(self, layers: nn.ModuleList) -> None:\n",
        "    super().__init__()\n",
        "    self.layers = layers\n",
        "    self.norm = LayerNormalization()\n",
        "\n",
        "  def forward(self, x, mask):\n",
        "    for layer in self.layers:\n",
        "      x = layer(x, mask)\n",
        "    return self.norm(x)"
      ],
      "metadata": {
        "id": "x8hDGsh0mQGw"
      },
      "execution_count": 42,
      "outputs": []
    },
    {
      "cell_type": "code",
      "source": [
        "class DecoderBlock(nn.Module):\n",
        "\n",
        "  def __init__(self,\n",
        "               self_attention_block: MultiHeadAttentionBlock,\n",
        "               cross_attention_block: MultiHeadAttentionBlock,\n",
        "               feed_forward_block: FeedForwardBlock,\n",
        "               residual_connection: ResidualConnection,\n",
        "               dropout: nn.Dropout):\n",
        "    super().__init__()\n",
        "    self.self_attention_block = self_attention_block\n",
        "    self.cross_attention_block = cross_attention_block\n",
        "    self.feed_forward_block = feed_forward_block\n",
        "    self.residual_connection = nn.ModuleList([ResidualConnection(dropout) for _ in range(3)])\n",
        "\n",
        "  def forward(self, x, encoder_output, src_mask, tgt_mask):\n",
        "    x = self.residual_connection[0](x, lambda x: self.self_attention_block(x, x, x, tgt_mask))\n",
        "    x = self.residual_connection[1](x, lambda x: self.cross_attention_block(x, encoder_output, encoder_output, src_mask))\n",
        "    x = self.residual_connection[2](x, self.feed_forward_block)\n",
        "    return x"
      ],
      "metadata": {
        "id": "HV6JnVdanMLK"
      },
      "execution_count": 43,
      "outputs": []
    },
    {
      "cell_type": "code",
      "source": [
        "class Decoder(nn.Module):\n",
        "\n",
        "  def __init__(self, layers: nn.ModuleList) -> None:\n",
        "    super().__init__()\n",
        "    self.layers = layers\n",
        "    self.norm = LayerNormalization()\n",
        "\n",
        "  def forward(self, x, encoder_output, src_mask, tgt_mask):\n",
        "    for layer in self.layers:\n",
        "      x = layer(x, encoder_output, src_mask, tgt_mask)\n",
        "    return self.norm(x)\n"
      ],
      "metadata": {
        "id": "6u4th39foD9o"
      },
      "execution_count": 45,
      "outputs": []
    },
    {
      "cell_type": "code",
      "source": [
        "class ProjectionLayer(nn.Module):\n",
        "\n",
        "  def __init__(self, d_model: int, vocab_size: int) -> None:\n",
        "    super().__init__()\n",
        "    self.proj = nn.Linear(d_model, vocab_size)\n",
        "\n",
        "  def forward(self, x):\n",
        "    # (Batch, Seq_len, d_model) --> (Batch, seq_len, d_model)\n",
        "    return torch.log_softmax(self.proj(x), dim = -1)"
      ],
      "metadata": {
        "id": "fTS2lStYolA8"
      },
      "execution_count": 46,
      "outputs": []
    },
    {
      "cell_type": "code",
      "source": [
        "class Transformer(nn.Module):\n",
        "\n",
        "  def __init__(self, encoder: Encoder, decoder: Decoder, src_embed: InputEmbedding, tgt_embed: InputEmbedding,src_pos: PositionalEncoding, tgt_pos: PositionalEncoding, projection_layer: ProjectionLayer):\n",
        "    super().__init__()\n",
        "    self.encoder = encoder\n",
        "    self.decoder = decoder\n",
        "    self.src_embed = src_embed\n",
        "    self.tgt_embed = tgt_embed\n",
        "    self.src_pos = src_pos\n",
        "    self.tgt_pos = tgt_pos\n",
        "    self.projection_layer = projection_layer\n",
        "\n",
        "  def encode(self, src, src_mask):\n",
        "    src = self.src_embed(src)\n",
        "    src = self.src_pos(src)\n",
        "    return self.encoder(src, src_mask)\n",
        "\n",
        "  def decode(self, encoder_output, src_mask, tgt, tgt_mask):\n",
        "    tgt = self.tgt_embed(tgt)\n",
        "    tgt = self.tgt_pos(tgt)\n",
        "    return self.decoder(tgt, encoder_output, src_mask, tgt_mask)\n",
        "\n",
        "  def project(self, x):\n",
        "    return self.projection_layer(x)\n"
      ],
      "metadata": {
        "id": "9r40bLM9pCvH"
      },
      "execution_count": null,
      "outputs": []
    },
    {
      "cell_type": "code",
      "source": [
        "def build_transformer(src_vocab_size: int,\n",
        "                      tgt_vocab_size: int,\n",
        "                      src_seq_len: int,\n",
        "                      tgt_seq_len: int,\n",
        "                      d_model: int = 512,\n",
        "                      N: int = 6,\n",
        "                      h: int = 8,\n",
        "                      dropout: float = 0.1,\n",
        "                      d_ff: int = 2048) -> Transformer:\n",
        "    # create the embedding layer\n",
        "    src_embed = InputEmbedding(d_model, src_vocab_size)\n",
        "    tgt_embed = InputEmbedding(d_model, tgt_vocab_size)\n",
        "    # create the positional encoding layer\n",
        "    src_pos = PositionalEncoding(d_model, src_seq_len, dropout)\n",
        "    tgt_pos = PositionalEncoding(d_model, tgt_seq_len, dropout)\n",
        "    # create the encoder blocks\n",
        "    encoder_blocks = []\n",
        "    for _ in range(N):\n",
        "      encoder_self_attention_block = MultiHeadAttentionBlock(d_model, h, dropout)\n",
        "      feed_forward_block = FeedForwardBlock(d_model, d_ff, dropout)\n",
        "      encoder_block = EncoderBlock(encoder_self_attention_block, feed_forward_block, dropout)\n",
        "      encoder_blocks.append(encoder_block)\n",
        "\n",
        "\n",
        "    # create the decoder block\n",
        "    decoder_blocks = []\n",
        "    for _ in range(N):\n",
        "      decoder_self_attention_block = MultiHeadAttentionBlock(d_model, h, dropout)\n",
        "      decoder_cross_attention_block = MultiHeadAttentionBlock(d_model, h, dropout)\n",
        "      feed_forward_block = FeedForwardBlock(d_model, d_ff, dropout)\n",
        "      decoder_block = DecoderBlock(decoder_self_attention_block, decoder_cross_attention_block, dropout)\n",
        "      residual_connection = ResidualConnection(dropout)\n",
        "      decoder_blocks.append(decoder_block)\n",
        "\n",
        "    # create the encoder and the decoder\n",
        "    encoder = Encoder(nn.ModuleList(encoder_blocks))\n",
        "    decoder = Decoder(nn.ModuleList(decoder_blocks))\n",
        "    # create the projection layer\n",
        "    projection_layer = ProjectionLayer(d_model, tgt_vocab_size)\n",
        "\n",
        "    # create the transformer\n",
        "    transformer = Transformer(encoder, decoder, src_embed, tgt_embed, src_pos, tgt_pos, projection_layer)\n",
        "\n",
        "    # initialize the parameters\n",
        "    for p in transformer.parameters():\n",
        "      if p.dim() > 1:\n",
        "        nn.init.xavier_uniform_(p)\n",
        "\n",
        "    return transformer"
      ],
      "metadata": {
        "id": "TjPyKw0lqJ4i"
      },
      "execution_count": null,
      "outputs": []
    }
  ]
}